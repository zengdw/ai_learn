{
  "cells": [
    {
      "cell_type": "markdown",
      "metadata": {
        "id": "view-in-github",
        "colab_type": "text"
      },
      "source": [
        "<a href=\"https://colab.research.google.com/github/zengdw/ai_learn/blob/main/langchain/langChain_Groq.ipynb\" target=\"_parent\"><img src=\"https://colab.research.google.com/assets/colab-badge.svg\" alt=\"Open In Colab\"/></a>"
      ]
    },
    {
      "cell_type": "code",
      "execution_count": null,
      "metadata": {
        "id": "uxGtarhQnyi4"
      },
      "outputs": [],
      "source": [
        "!pip install -qU \"langchain[groq]\""
      ]
    },
    {
      "cell_type": "code",
      "source": [
        "import getpass\n",
        "import os\n",
        "\n",
        "groq_key = getpass.getpass(\"Groq API Key:\")\n",
        "os.environ[\"GROQ_API_KEY\"] = groq_key\n",
        "os.environ['LANGSMITH_ENDPOINT'] = 'https://api.smith.langchain.com'\n",
        "os.environ[\"LANGSMITH_TRACING\"] = 'True'\n",
        "os.environ['LANGSMITH_API_KEY'] = getpass.getpass(\"LangSmith API Key:\")"
      ],
      "metadata": {
        "id": "rMGl6RAIxfOQ"
      },
      "execution_count": null,
      "outputs": []
    },
    {
      "cell_type": "markdown",
      "source": [
        "## Groq Api使用示例"
      ],
      "metadata": {
        "id": "lmZ7ytct3SWg"
      }
    },
    {
      "cell_type": "code",
      "source": [
        "from groq import Groq\n",
        "\n",
        "client = Groq(api_key=groq_key)\n",
        "\n",
        "chat_completion = client.chat.completions.create(\n",
        "  messages=[\n",
        "    {\n",
        "      \"role\": \"user\",\n",
        "      \"content\": \"Explain the importance of fast language models\",\n",
        "    }\n",
        "  ],\n",
        "  model=\"llama-3.3-70b-versatile\",\n",
        ")\n",
        "\n",
        "print(chat_completion.choices[0].message.content)"
      ],
      "metadata": {
        "collapsed": true,
        "id": "Ls86TcHXvaRZ"
      },
      "execution_count": null,
      "outputs": []
    },
    {
      "cell_type": "code",
      "source": [
        "import openai\n",
        "\n",
        "client = openai.OpenAI(\n",
        "  base_url=\"https://api.groq.com/openai/v1\",\n",
        "  api_key=groq_key\n",
        ")\n",
        "\n",
        "chat_completion = client.chat.completions.create(\n",
        "  messages=[\n",
        "    {\n",
        "      \"role\": \"user\",\n",
        "      \"content\": \"Explain the importance of fast language models\",\n",
        "    }\n",
        "  ],\n",
        "  model=\"llama-3.3-70b-versatile\",\n",
        ")\n",
        "\n",
        "print(chat_completion.choices[0].message.content)"
      ],
      "metadata": {
        "collapsed": true,
        "id": "u4_Q02SAw67j"
      },
      "execution_count": null,
      "outputs": []
    },
    {
      "cell_type": "markdown",
      "source": [
        "## Langchain Groq 使用"
      ],
      "metadata": {
        "id": "K_OcB7qe3ZZL"
      }
    },
    {
      "cell_type": "code",
      "source": [
        "from langchain.chat_models import init_chat_model\n",
        "from langchain_core.messages import SystemMessage, HumanMessage\n",
        "\n",
        "model = init_chat_model('llama-3.3-70b-versatile', model_provider = 'groq')\n",
        "\n",
        "# langchain消息格式调用\n",
        "messages = [\n",
        "  SystemMessage(\"Translate the following from English into Italian\"),\n",
        "  HumanMessage(\"hi!\"),\n",
        "]\n",
        "model.invoke(messages)"
      ],
      "metadata": {
        "collapsed": true,
        "id": "uTBgublFy4LQ"
      },
      "execution_count": null,
      "outputs": []
    },
    {
      "cell_type": "code",
      "source": [
        "# OpenAi消息格式调用\n",
        "model.invoke([{\"role\": \"user\", \"content\": \"Hello\"}])"
      ],
      "metadata": {
        "collapsed": true,
        "id": "JLlr0ZuRzWFK"
      },
      "execution_count": null,
      "outputs": []
    },
    {
      "cell_type": "code",
      "source": [
        "# 字符串格式调用\n",
        "model.invoke(\"Hello\")"
      ],
      "metadata": {
        "collapsed": true,
        "id": "y8QA8-Rc5nPR"
      },
      "execution_count": null,
      "outputs": []
    },
    {
      "cell_type": "code",
      "source": [
        "# 流式输出\n",
        "for token in model.stream(\"hello\"):\n",
        "  print(token.content, end=\"\")"
      ],
      "metadata": {
        "id": "gTxyOLEa5p5Z"
      },
      "execution_count": null,
      "outputs": []
    },
    {
      "cell_type": "markdown",
      "source": [
        "### 提示模板"
      ],
      "metadata": {
        "id": "FWyhLB4G6k8R"
      }
    },
    {
      "cell_type": "code",
      "source": [
        "from ast import mod\n",
        "from langchain_core.prompts import ChatPromptTemplate\n",
        "\n",
        "system_template = \"Translate the following from English into {language}\"\n",
        "prompt_template = ChatPromptTemplate.from_messages(\n",
        "  [(\"system\", system_template), (\"user\", \"{text}\")]\n",
        ")\n",
        "prompt = prompt_template.invoke({\"language\": \"Chinese\", \"text\": \"I love programming\"})\n",
        "print(f'prmopt: {prompt}')\n",
        "res = model.invoke(prompt)\n",
        "print(f'res: {res.content}')"
      ],
      "metadata": {
        "id": "iLpOMmKh6DZq"
      },
      "execution_count": null,
      "outputs": []
    },
    {
      "cell_type": "code",
      "source": [],
      "metadata": {
        "id": "mbZGNzIr7NWJ"
      },
      "execution_count": null,
      "outputs": []
    }
  ],
  "metadata": {
    "kernelspec": {
      "display_name": "python3.10",
      "language": "python",
      "name": "python3"
    },
    "language_info": {
      "codemirror_mode": {
        "name": "ipython",
        "version": 3
      },
      "file_extension": ".py",
      "mimetype": "text/x-python",
      "name": "python",
      "nbconvert_exporter": "python",
      "pygments_lexer": "ipython3",
      "version": "3.10.16"
    },
    "colab": {
      "provenance": [],
      "include_colab_link": true
    }
  },
  "nbformat": 4,
  "nbformat_minor": 0
}